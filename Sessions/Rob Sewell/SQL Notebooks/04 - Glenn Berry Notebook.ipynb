{
    "metadata": {
        "kernelspec": {
            "name": "SQL",
            "display_name": "SQL",
            "language": "sql"
        },
        "language_info": {
            "name": "sql",
            "version": ""
        }
    },
    "nbformat_minor": 2,
    "nbformat": 4,
    "cells": [
        {
            "cell_type": "markdown",
            "source": "# Glenn Berry Diagnostic Queries Notebook\r\n\r\nGlenn Berry created a set of Diagnostic Queries for SQL Server. [You can find them and read more here](https://www.sqlskills.com/blogs/glenn/category/dmv-queries/)\r\n\r\n## Automate it\r\n\r\nThe wonderous Chrissy LeMaire [@cl](https://twitter.com/cl) \r\n\r\n![IncredibleChrissy](https://dbatools.io/wp-content/uploads/2016/05/lollerskate.jpg)\r\n\r\ncreated [dbatools](https://dbatools.io) for all things PowerShell and SQL Server\r\n\r\n![dbatools](https://pbs.twimg.com/profile_images/759688014255759360/HKp0ctqn_400x400.jpg)\r\n\r\nMy amazing buddy André Kamman [@AmdreKamman](https://twitter.com/AndreKamman) \r\n\r\n![AwesomeAndre](https://pbs.twimg.com/profile_images/930449528796393474/75M0guLm_400x400.jpg)\r\n\r\nadded functions to dbatools for running and saving the diagnositc queries to dbatools",
            "metadata": {}
        },
        {
            "cell_type": "markdown",
            "source": "Then my fabulous Italian friend Gianluca Sartori [@spaghettidba](https://twitter.com/spaghettidba)\r\n\r\n(![Gian](https://user-images.githubusercontent.com/6729780/59565505-6bae2580-904c-11e9-9808-b01c6db9f7c2.png))\r\n\r\ncreated a PowerShell function for creating a SQL Notebook for them. You can read about that [on his blog here](https://spaghettidba.com/2019/03/20/generating-a-jupyter-notebook-for-glenn-berrys-diagnostic-queries-with-powershell/).  \r\nThe function was then added to dbatools for the release of 1.0.  \r\nThere is a new command `New-DbaDiagnosticAdsNotebook`\r\n\r\nCreating a Notebook is now as easy as \r\n\r\n    New-DbaDiagnosticAdsNotebook -TargetVersion 2017 -Path c:\\temp\\GiansGreatGlennBerryQueriesNotebook.ipynb\r\n\r\nYou can install dbatools with `Install-Module dbatools -Scope CurrentUser` If you have already installed dbatools, you can use `Update-Module dbatools` to get hte latest version which will have this command.",
            "metadata": {}
        },
        {
            "cell_type": "markdown",
            "source": "\r\nRob - you need to install the pre-release with  ipmo Presentations:\\dbatools-prerelease\\dbatools-prerelease\\dbatools.psd1\r\n\r\n<a href=\"command:workbench.action.terminal.focus\">In Azure Data Studio click this link to open a new terminal</a>\r\n\r\n# Rob - Import pre-release module\r\n\r\n<a href=\"command:workbench.action.terminal.sendSequence?%7B%22text%22%3A%22 ipmo C:%5C%5CUsers%5C%5Cmrrob%5C%5COneDrive%5C%5CDocuments%5C%5CGithub%5C%5CPresentations%5C%5Cdbatools-prerelease%5C%5Cdbatools-prerelease%5C%5Cdbatools.psd1 \\u000D %22%7D\">Rob -  import module pre-release by clicking this link</a>\r\n",
            "metadata": {}
        },
        {
            "cell_type": "markdown",
            "source": "# Create Notebook\r\n\r\n<a href=\"command:workbench.action.terminal.focus\">Click this link to open the terminal if needed</a>\r\n\r\n<a href=\"command:workbench.action.terminal.sendSequence?%7B%22text%22%3A%22  New-DbaDiagnosticAdsNotebook -TargetVersion 2017 -Path c:%5C%5Ctemp%5C%5CGiansGreatGlennBerryQueriesNotebook.ipynb \\u000D %22%7D\">Run New-DbaDiagnosticAdsNotebook -TargetVersion 2017 -Path c:\\temp\\GiansGreatGlennBerryQueriesNotebook.ipynb by clicking this link</a>\r\n",
            "metadata": {}
        },
        {
            "cell_type": "markdown",
            "source": "# Open Notebook\r\n\r\n<a href=\"command:workbench.action.terminal.focus\">Click this link to open the terminal if needed</a>\r\n\r\n<a href=\"command:workbench.action.terminal.sendSequence?%7B%22text%22%3A%22  Invoke-Item c:%5C%5Ctemp%5C%5CGiansGreatGlennBerryQueriesNotebook.ipynb \\u000D %22%7D\">Run Invoke-Item  c:\\temp\\GiansGreatGlennBerryQueriesNotebook.ipynb by clicking this link</a>\r\n",
            "metadata": {}
        },
        {
            "cell_type": "markdown",
            "source": "# More Options\r\n\r\nYou can create a notebook for any of the versions that are supported by Glenn\r\n\r\n- 2005 \r\n- 2008\r\n- 2008R2 \r\n- 2012 \r\n- 2014 \r\n- 2016 \r\n- 2016SP2 \r\n- 2017 \r\n- 2019 \r\n- AzureSQLDatabase\r\n\r\nYou can create a notebook for the correct version for a specific instance with the SQLInstance parameter\r\n\r\n`New-DbaDiagnosticAdsNotebook -SqlInstance BeardInstance -Path c:\\temp\\Beard-Glenn-Berry.ipynb`\r\n\r\nYou can include the database specific queries with the `-IncludeDatabaseSpecific` switch\r\n\r\n`New-DbaDiagnosticAdsNotebook -SqlInstance BeardInstance -Path c:\\temp\\Beard-Glenn-Berry.ipynb -IncludeDatabaseSpecific`",
            "metadata": {}
        }
    ]
}
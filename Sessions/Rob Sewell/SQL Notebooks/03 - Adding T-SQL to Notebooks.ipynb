{
    "metadata": {
        "kernelspec": {
            "name": "SQL",
            "display_name": "SQL",
            "language": "sql"
        },
        "language_info": {
            "name": "sql",
            "version": ""
        }
    },
    "nbformat_minor": 2,
    "nbformat": 4,
    "cells": [
        {
            "cell_type": "markdown",
            "source": "# T-SQL in a SQL Notebook\r\n\r\nNow that we can add some PowerShell to our Notebooks, I can show you how to add some T-SQL.\r\n\r\nFirst lets create a container to use for our notebook\r\n\r\nI am going to use the dbatools docker images for this. You can read [more about that here](https://dbatools.io/docker/)\r\n\r\nI am going to use the docker-compose file from [my DockerStuff repo](https://github.com/SQLDBAWithABeard/DockerStuff/tree/master/dbatools-2-instances-AG) which I have saved locally. This uses a local directory for backup storage.\r\n\r\n\r\n<a href=\"command:workbench.action.terminal.sendSequence?%7B%22text%22%3A%22 if %28-not %28%24IsLinux -or %24IsMacOS%29 %29 %7B    if %28-not%28Test-Path C:%5C%5C%5C%5CMSSQL%5C%5C%5C%5CBACKUP%29%29 %7B        Write-Output \\u0022I\\u0027m going to create C:%5C%5C%5C%5CMSSQL%5C%5C%5C%5CBACKUPS so that the docker-compose will work\\u0022        New-Item C:%5C%5CMSSQL1%5C%5CBACKUP1 -ItemType Directory    %7D    else %7B        Write-Output \\u0022C:%5C%5C%5C%5CMSSQL%5C%5C%5C%5CBACKUPS already exists\\u0022    %7D%7Delse %7B    Write-Warning \\u0022Sorry This code won\\u0027t run on Linux - You will have to do it manually and edit the docker compose file\\u0022%7D \\u000D %22%7D\">This link will create the directory C:\\MSSQL\\BaCKUPS</a>\r\n\r\n<a href=\"command:workbench.action.terminal.sendSequence?%7B%22text%22%3A%22 docker-compose -f C:%5C%5Cdbachecks%5C%5Cdbatools-docker-compose.yml up -d \\u000D %22%7D\">This will run the docker compose and create the containers</a>\r\n\r\n![image](https://user-images.githubusercontent.com/6729780/59587466-39003d80-90dd-11e9-8ca7-2c1550cb96cb.png)\r\n\r\n\r\n\r\n\r\n",
            "metadata": {}
        },
        {
            "cell_type": "markdown",
            "source": "# T-SQL\r\n\r\nYou can add T-SQL Code by clicking on the three elipses in a block\r\n\r\n![image](https://user-images.githubusercontent.com/6729780/59587952-600b3f00-90de-11e9-9801-d4c7664aaa84.png)\r\n\r\nor by using the button at the top of the Notebook\r\n\r\n![image](https://user-images.githubusercontent.com/6729780/59588101-c001e580-90de-11e9-8f86-f6b522c69322.png)\r\n\r\nEither of these creates a Code Block. You can enter your T-SQL code in the block\r\n\r\n![image](https://user-images.githubusercontent.com/6729780/59588323-3dc5f100-90df-11e9-85cf-9b9d5ae0c877.png)\r\n\r\nYou can set a connection at the top of the notebook. It defaults to the first instance that you have connected to in Azure Data Studio\r\n\r\n![image](https://user-images.githubusercontent.com/6729780/59588669-0c99f080-90e0-11e9-95a0-95710f67b3b9.png)\r\n\r\nYou can click the play button or F5 to run the code\r\n\r\n![image](https://user-images.githubusercontent.com/6729780/59588515-aca34a00-90df-11e9-9c76-6b9075ceca45.png)\r\n\r\nTo change database you will `USE [DatabaseName]`\r\n",
            "metadata": {}
        },
        {
            "cell_type": "code",
            "source": "SELECT @@VERSION AS SQLVersion",
            "metadata": {},
            "outputs": [],
            "execution_count": 1
        },
        {
            "cell_type": "code",
            "source": "USE Northwind\r\nGO\r\n\r\nSELECT c.CategoryName,\r\n  (select sum(val)\r\n   from (SELECT TOP 5 od2.UnitPrice*od2.Quantity as val\r\n         FROM [Order Details] od2, Products p2\r\n         WHERE od2.ProductID = p2.ProductID\r\n         AND c.CategoryID = p2.CategoryID\r\n         ORDER BY 1 DESC\r\n        ) t\r\n  ) AS \"5 top orders in 1997\"\r\nFROM [Order Details] od, Products p, Categories c, Orders o \r\nWHERE od.ProductID = p. ProductID\r\nAND p.CategoryID = c.CategoryID\r\nAND od.OrderID = o.OrderID\r\nAND YEAR(o.OrderDate) = 1997\r\nGROUP BY c.CategoryName, c.CategoryId",
            "metadata": {},
            "outputs": [],
            "execution_count": 2
        },
        {
            "cell_type": "markdown",
            "source": "# Results\r\n\r\nThe results are saved with the notebook. This means that you can send the notebook to your clients, give it to your off-site engineers or first line support and you will then know *exactly* which queries they ran and the results of that query. So you can easily create runbooks for certain scenarios.\r\n\r\nYou could also use notebooks for upgrades or migrations and have a recorded timeline of what happened.\r\n\r\nThat would also be good for incident resolution - Let your mind go wild :-)",
            "metadata": {}
        },
        {
            "cell_type": "markdown",
            "source": "# Availability Groups\r\n\r\nOne thing that you could do is to use code blocks for users to follow to perform repeated tasks like maybe creating Availability Groups.\r\n\r\nI was going to create a demo showing exaclty that but actually its so much easierr to do it with dbatools I thought I would do that instead!\r\n\r\nThis is the code\r\n\r\n    $cred = Import-Clixml -Path dockercompose:\\dbatools-2-instances-AG\\sqladmincred.xml\r\n    $sqlinstance1 = 'localhost,15591'\r\n    $sqlinstance2 = 'localhost,15592'\r\n    $AGName = 'dbatools-ag'\r\n\r\n    $params = @{\r\n        Primary = $sqlinstance1\r\n        PrimarySqlCredential = $cred\r\n        Secondary = $sqlinstance2\r\n        SecondarySqlCredential = $cred\r\n        Name = $AGName\r\n        Database = 'pubs'\r\n        ClusterType = 'None'\r\n        SeedingMode = 'Automatic'\r\n        FailoverMode = 'Manual'\r\n        Confirm = $false\r\n    }\r\n    \r\n    # execute the command\r\n    New-DbaAvailabilityGroup @params \r\n\r\n<a href=\"command:workbench.action.terminal.sendSequence?%7B%22text%22%3A%22 %24cred %3d Import-Clixml -Path dockercompose:%5c%5cdbatools-2-instances-AG%5c%5csqladmincred.xml\\u003B %24sqlinstance1 %3d \\u0027localhost%2c15591\\u0027\\u003B %24sqlinstance2 %3d \\u0027localhost%2c15592\\u0027\\u003B %24AGName %3d \\u0027dbatools-ag\\u0027\\u003B \\u000A%24params %3d %40%7b\\u000A    Primary %3d %24sqlinstance1 \\u003B     PrimarySqlCredential %3d %24cred\\u003B     Secondary %3d %24sqlinstance2\\u003B     SecondarySqlCredential %3d %24cred\\u003B     Name %3d %24AGName\\u003B     Database %3d \\u0027pubs\\u0027\\u003B     ClusterType %3d \\u0027None\\u0027\\u003B     SeedingMode %3d \\u0027Automatic\\u0027\\u003B     FailoverMode %3d \\u0027Manual\\u0027\\u003B     Confirm %3d %24false\\u003B %7d\\u003B New-DbaAvailabilityGroup %40params \\u000D %22%7D\">Create an AG</a>\r\n\r\nI don't know why the AG DB Status doesnt show in the report but I can show it with T-SQL\r\n\r\n(See how we mix POwerShell, Markdown and T-SQL to create a run book ?)",
            "metadata": {}
        },
        {
            "cell_type": "code",
            "source": "SELECT \r\n\tar.replica_server_name, \r\n\tadc.database_name, \r\n\tag.name AS ag_name, \r\n\tdrs.is_local, \r\n\tdrs.is_primary_replica, \r\n\tdrs.synchronization_state_desc, \r\n\tdrs.is_commit_participant, \r\n\tdrs.synchronization_health_desc, \r\n\tdrs.recovery_lsn, \r\n\tdrs.truncation_lsn, \r\n\tdrs.last_sent_lsn, \r\n\tdrs.last_sent_time, \r\n\tdrs.last_received_lsn, \r\n\tdrs.last_received_time, \r\n\tdrs.last_hardened_lsn, \r\n\tdrs.last_hardened_time, \r\n\tdrs.last_redone_lsn, \r\n\tdrs.last_redone_time, \r\n\tdrs.log_send_queue_size, \r\n\tdrs.log_send_rate, \r\n\tdrs.redo_queue_size, \r\n\tdrs.redo_rate, \r\n\tdrs.filestream_send_rate, \r\n\tdrs.end_of_log_lsn, \r\n\tdrs.last_commit_lsn, \r\n\tdrs.last_commit_time\r\nFROM sys.dm_hadr_database_replica_states AS drs\r\nINNER JOIN sys.availability_databases_cluster AS adc \r\n\tON drs.group_id = adc.group_id AND \r\n\tdrs.group_database_id = adc.group_database_id\r\nINNER JOIN sys.availability_groups AS ag\r\n\tON ag.group_id = drs.group_id\r\nINNER JOIN sys.availability_replicas AS ar \r\n\tON drs.group_id = ar.group_id AND \r\n\tdrs.replica_id = ar.replica_id\r\nORDER BY \r\n\tag.name, \r\n\tar.replica_server_name, \r\n\tadc.database_name;",
            "metadata": {},
            "outputs": [],
            "execution_count": 1
        },
        {
            "cell_type": "code",
            "source": "SELECT @@version AS 'Hugo thinks differently'",
            "metadata": {},
            "outputs": [
                {
                    "output_type": "display_data",
                    "data": {
                        "text/html": "(1 row affected)"
                    },
                    "metadata": {}
                },
                {
                    "output_type": "display_data",
                    "data": {
                        "text/html": "Total execution time: 00:00:00.006"
                    },
                    "metadata": {}
                },
                {
                    "output_type": "execute_result",
                    "execution_count": 1,
                    "data": {
                        "application/vnd.dataresource+json": {
                            "schema": {
                                "fields": [
                                    {
                                        "name": "(No column name)"
                                    }
                                ]
                            },
                            "data": [
                                {
                                    "0": "Microsoft SQL Server 2017 (RTM-CU11) (KB4462262) - 14.0.3038.14 (X64) \n\tSep 14 2018 13:53:44 \n\tCopyright (C) 2017 Microsoft Corporation\n\tDeveloper Edition (64-bit) on Linux (Ubuntu 16.04.5 LTS)"
                                }
                            ]
                        },
                        "text/html": "<table><tr><th>(No column name)</th></tr><tr><td>Microsoft SQL Server 2017 (RTM-CU11) (KB4462262) - 14.0.3038.14 (X64) \n\tSep 14 2018 13:53:44 \n\tCopyright (C) 2017 Microsoft Corporation\n\tDeveloper Edition (64-bit) on Linux (Ubuntu 16.04.5 LTS)</td></tr></table>"
                    },
                    "metadata": {}
                }
            ],
            "execution_count": 1
        }
    ]
}
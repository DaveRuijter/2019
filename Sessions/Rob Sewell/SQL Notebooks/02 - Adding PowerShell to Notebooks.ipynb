{
    "metadata": {
        "kernelspec": {
            "name": "SQL",
            "display_name": "SQL",
            "language": "sql"
        },
        "language_info": {
            "name": "sql",
            "version": ""
        }
    },
    "nbformat_minor": 2,
    "nbformat": 4,
    "cells": [
        {
            "cell_type": "markdown",
            "source": "# Adding PowerShell Code to SQL Notebooks\r\n\r\nSQL Notebooks are in constant eveolution but as at June 2019, this is how I enable clients to run PowerShell Code in SQL Notebooks in the Markdown blocks\r\n\r\n## Use the commands\r\n\r\nIn Azure Data Studio if you click on the cog in the bottom left and choose Keyboard shortcuts, you can see and change the Keyboard Shortcuts. This enables you to see the command that is called when you use a keyboard shortcut. For Example, if you look at\r\n\r\n![image](https://user-images.githubusercontent.com/6729780/59566321-84233d80-9056-11e9-9643-e9e15e85a2f0.png)\r\n\r\nYou can see that the command that is called is `workbench.action.terminal.focus`\r\n\r\nIt turns out that you can call this as a link in a Markdown document using HTML with `<a href=\"\">` and adding `command:` prior to the command. When the link is clicked the command will run.\r\n\r\nSo a link like this `<a href=\"command:workbench.action.terminal.focus\">Click this link to open the terminal</a>` will open the terminal\r\n\r\n<a href=\"command:workbench.action.terminal.focus\">Click this link to open the terminal</a> \r\n\r\n",
            "metadata": {}
        },
        {
            "cell_type": "markdown",
            "source": "I expect you have clicked this and it has not worked. There is an extra step that is required to enable this functionality.\r\n\r\n## The Notebook needs to be Trusted - With a BIG WARNING\r\n\r\nWhen you create a new notebook and save it you will see\r\n\r\n![image](https://user-images.githubusercontent.com/6729780/59566360-365b0500-9057-11e9-87fb-1f8cbbb6e9e2.png)\r\n\r\nIf you click Not Trusted the Notebook will be trusted and allowed to run commands from the markdown blocks. \r\n\r\n**This is not something to be done lightly**. I was telling some of my security red team friends at the European PowerShell Conference about this functionality and they were very very interested in a product which has a link which if clicked by a user can execute code. So please, ***be very careful indeed with Notebooks from untrusted sources***. You can also use the steps below to examine the code\r\n\r\nSo with that big warning covered, lets add some PowerShell to a Notebook.\r\n",
            "metadata": {}
        },
        {
            "cell_type": "markdown",
            "source": "## Send a command sequence\r\n\r\nIn the [Visual Studio Code documentation](https://code.visualstudio.com/docs/editor/integrated-terminal) it states that \r\n\r\n![image](https://user-images.githubusercontent.com/6729780/59566689-5260a580-905b-11e9-8369-c7e4b9a0e229.png)\r\n\r\nSo we can use `workbench.action.terminal.sendSequence` to send code to the terminal. \r\n\r\nHowever, we still need to craft the command so that it will work as a link. \r\nIt needs to be converted into a URL. \r\n\r\nI use this website [https://www.url-encode-decode.com/](https://www.url-encode-decode.com/) to do this.\r\n\r\nThis is **how you can check the code in other peoples notebook, use the decode capability.**\r\n\r\n![image](https://user-images.githubusercontent.com/6729780/59567164-e5044300-9061-11e9-802b-7b28c3aee345.png)\r\n\r\nEncoding `Set-Location C:\\dbachecks` gives `Set-Location+C%3A%5Cdbachecks`\r\n\r\nUnfortunately, that does not complete the actions required\r\n\r\nThe + needs to be replaced with a space or `%20`\r\n\r\nYou also need to double the `\\` and replace the `%3A` with a `:`\r\n\r\nThe `\"` needs to be replaced with `\\u022`, the `'` with `\\u027`, the curly braces won't work unless you remove the `%0D%0A`\r\n\r\n\r\n\r\n",
            "metadata": {}
        },
        {
            "cell_type": "markdown",
            "source": "So now you can write your PowerShell and encode it and add `\\u000D` at the end of the code to pass an enter to run the code.\r\n\r\nand then place all of that into a link like this\r\n\r\n`<a href=\"command:workbench.action.terminal.sendSequence?%7B%22text%22%3A%22 PLACE THE ENCODED CODE HERE %22%7D\">Link Text</a>`\r\n\r\nThis means that to add the code\r\n\r\n    Set-Location C:\\dbachecks\r\n    Get-ChildItem\r\n\r\nYou would end up with a link like this\r\n\r\n\r\n`<a href=\"command:workbench.action.terminal.sendSequence?%7B%22text%22%3A%22 Set-Location C:%5C%5Cdbachecks \\u000D Get-ChildItem \\u000D %22%7D\">Set Location and list files</a>`\r\n\r\nWho wants to remember all that everytime ? So I created a PowerShell function!\r\n\r\n        function Convert-ADSPowerShellForMarkdown {\r\n        <#\r\n        .SYNOPSIS\r\n        Converts URL encoded PowerShell code from https://www.url-encode-decode.com/ into valid Markdown URI Link text\r\n        \r\n        .DESCRIPTION\r\n        Converts URL encoded PowerShell code from https://www.url-encode-decode.com/ into valid Markdown URI Link Text\r\n        \r\n        .PARAMETER inputstring\r\n        The endoded URL from the website\r\n\r\n        .PARAMETER LinkText\r\n        The text to show for the link\r\n        \r\n        .PARAMETER ToClipBoard\r\n        Will not output to screen but instead will set the clipboard\r\n        \r\n        .EXAMPLE\r\n        Convert-ADSPowerShellForMarkdown if+%28-not+%28%24IsLinux+-or+%24IsMacOS%29+%29+%7B%0D%0A++++if+%28-not%28Test-Path+C%3A%5C%5CMSSQL%5C%5CBACKUP%29%29+%7B%0D%0A++++++++Write-Output+%22I%27m+going+to+create+C%3A%5C%5CMSSQL%5C%5CBACKUPS+so+that+the+docker-compose+will+work%22%0D%0A++++++++New-Item+C%3A%5CMSSQL1%5CBACKUP1+-ItemType+Directory%0D%0A++++%7D%0D%0A++++else+%7B%0D%0A++++++++Write-Output+%22C%3A%5C%5CMSSQL%5C%5CBACKUPS+already+exists%22%0D%0A++++%7D%0D%0A%7D%0D%0Aelse+%7B%0D%0A++++Write-Warning+%22Sorry+This+code+won%27t+run+on+Linux+-+You+will+have+to+do+it+manually+and+edit+the+docker+compose+file%22%0D%0A%7D -ToClipBoard\r\n\r\n        Converts the encoded URL so that it works with MarkDown and sets it to the clipboard\r\n        \r\n        .NOTES\r\n        June 2019 - Rob Sewell @SQLDbaWithBeard\r\n        SQLDBAWithABeard.Com\r\n        #>\r\n        \r\n        Param(\r\n            [Parameter(Mandatory = $true)]\r\n            [string]$inputstring,\r\n            [string]$linktext = \" LINK TEXT HERE \",\r\n            [switch]$ToClipBoard\r\n        )\r\n        clear\r\n        $linkage = $inputstring.Replace('+',' ').Replace('%3A',':').Replace('%5C','%5C%5C').Replace('%22','\\u0022').Replace('%27','\\u0027').Replace('%0D%0A','')\r\n        \r\n        $outputstring = @\"\r\n    <a href=\"command:workbench.action.terminal.sendSequence?%7B%22text%22%3A%22 $linkage \\u000D %22%7D\">$linktext</a>\r\n    \"@\r\n        if($ToClipBoard){\r\n            if (-not ($IsLinux -or $IsMacOS) ) {\r\n            $outputstring | Set-Clipboard\r\n            }\r\n            else{\r\n                Write-Warning \"Set-Clipboard - Doesnt work on Linux - Outputting to screen\" \r\n                $outputstring\r\n            }\r\n        }else {\r\n            $outputstring\r\n        }\r\n    }\r\n\r\nwhich I will keep updated [on GitHub](https://github.com/SQLDBAWithABeard/Functions/blob/master/Convert-ADSPowerShellForMarkdown.ps1)\r\n",
            "metadata": {}
        },
        {
            "cell_type": "markdown",
            "source": "# Run some PowerShell\r\n\r\nSo to run a bit of PowerShell we can do this\r\n\r\n<a href=\"command:workbench.action.terminal.focus\">Open a new terminal</a>\r\n\r\n<a href=\"command:workbench.action.terminal.sendSequence?%7B%22text%22%3A%22 Set-Location C:%5C%5Cdbachecks \\u000D Get-ChildItem \\u000D %22%7D\">Set Location and list files</a>",
            "metadata": {}
        }
    ]
}
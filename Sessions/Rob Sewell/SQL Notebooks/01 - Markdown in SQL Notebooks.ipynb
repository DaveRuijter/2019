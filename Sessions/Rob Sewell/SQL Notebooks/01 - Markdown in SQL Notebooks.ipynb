{
    "metadata": {
        "kernelspec": {
            "name": "SQL",
            "display_name": "SQL",
            "language": "sql"
        },
        "language_info": {
            "name": "sql",
            "version": ""
        }
    },
    "nbformat_minor": 2,
    "nbformat": 4,
    "cells": [
        {
            "cell_type": "markdown",
            "source": "# Markdown in a SQL Notebook\r\n\r\n## A new Notebook\r\n\r\nTo open a notebook in Azure Data Studio click File and New Notebook or `CTRL + SHIFT + N`\r\n\r\n![image](https://user-images.githubusercontent.com/6729780/59563108-6db4bc00-902d-11e9-9916-314f4f8f7187.png)\r\n\r\nIn Azure Data Studio you should also get used to using the Command Palette to find commands with intellisense, this can be opened with `F1` and then if you type 'New N' you can create a new notebook\r\n\r\n![image](https://user-images.githubusercontent.com/6729780/59563149-0c411d00-902e-11e9-8127-68608e94a841.png)\r\n\r\nThe blank Notebook enables you to start with a Code block or a Text Block. \r\n\r\n![image](https://user-images.githubusercontent.com/6729780/59563066-e49d8500-902c-11e9-90d0-f6feea9415bc.png)\r\n\r\nA Code block enables you to add T-SQL  \r\nA Text block allows you to add Markdown\r\n\r\n\r\n",
            "metadata": {}
        },
        {
            "cell_type": "markdown",
            "source": "# Using Markdown\r\n\r\nThe Markdown language has some intricacies. \r\n\r\n# Spaces\r\n\r\nThe one that catches me out the most often is the requirement for two spaces at the end of a line to add a line break\r\n\r\nThis is line 1\r\nThis is line 2 without any spaces\r\n\r\n\r\nThis is line 1  \r\nThis is line 2 with two spaces\r\n\r\n\r\n",
            "metadata": {}
        },
        {
            "cell_type": "markdown",
            "source": "# Headers\r\n\r\nWriting headers in Markdown uses `#`\r\n\r\n# One `#` (with a space) is the Biggest Header\r\n## Two `##` (with a space) is a little smaller\r\n### Three `###` (with a space) is smaller again\r\n#### Four `####` (with a space) is smaller again again\r\netc\r\n\r\n\r\n",
            "metadata": {}
        },
        {
            "cell_type": "markdown",
            "source": "### Emphasis\r\n\r\nYou can **emphasise** text **in bold** with two `**` before and after a word or phrase  \r\nYou can *emphasise* text *with italics* with one `*` before and after a word or phrase  \r\nYou can ***emphasise*** text ***with bold AND italics*** with three `***` before and after a word or phrase  \r\nYou can <u>emphasise</u> text <u>by underlining</u> by enclosing it in `<u>` tags `<u>Text to underline</u>`  \r\nYou can **<u>emphasise</u>** text **<u>in bold and underlining</u>** with `**` before and after the `<u>` tags `**<u>Text to underline and bold</u>**`  \r\nYou can *<u>emphasise</u>* text *<u>in italics and underlining</u>* with `*` before and after the `<u>` tags `*<u>Text to underline and italicise</u>*`  \r\nYou can ***<u>emphasise</u>*** text ***<u>in bold and italics and underlining</u>*** with `***` before and after the `<u>` tags `*<u>Text to underline and embolden and italicise</u>*`  \r\n\r\nYou can add a quote block using a `>` and a space before each line of the quote\r\n\r\n>  Kid, the next time I say, Let's go someplace like Bolivia,  \r\n>  Let's go someplace like Bolivia.\r\n\r\n",
            "metadata": {}
        },
        {
            "cell_type": "markdown",
            "source": "# Lists\r\n\r\nTo create an unordered bullet list use `-` and a space\r\n\r\nHere is a list of Data Events\r\n\r\n- Data Grillen\r\n- Data Saturday Holland\r\n- Data Relay\r\n- Data Scotland\r\n\r\nTo indent the lists tab and then `-` and a space\r\n\r\n- Germany\r\n    - Berlin\r\n    - Munich\r\n    - Lingen\r\n        - Data Grillen\r\n            - William Durkin\r\n- Netherlands\r\n    - Amsterdam\r\n    - Rotterdam\r\n    - Apenhuel\r\n\r\nCreating a numbered list as you can imagine uses numbers and a . like this  \r\n\r\n        1. first\r\n        2. second\r\n\r\n1. first\r\n2. second\r\n\r\nand indenting uses tabs as you expect\r\n\r\n1. first\r\n    1. first inside\r\n    2. second inside\r\n        1. first even further\r\n    3. third inside\r\n2. second\r\n\r\nHowever, all you need is to start with a `1.` (or possibly any smaller other number Which we think may be an int) after that any number will work!\r\n\r\n        1. Start with a 1.\r\n        7. After that any number will do!\r\n        1100. As high as you like!\r\n\r\n1. Start with a 1.\r\n7. After that any number will do!\r\n1100. As high as you like!  \r\n\r\nand in the indentations as well\r\n\r\n        1. Start with a 1.\r\n        77. After that any number will do!\r\n            1. It works the same when indented\r\n            7. It's a bit odd\r\n                1. Feels a bit strange\r\n                47889. Because the Markdown orders the numbers\r\n            5. and they can be in any order\r\n        11. As high as you like!\r\n\r\n\r\n1. Start with a 1.\r\n77. After that any number will do!\r\n    1. It works the same when indented\r\n    5. It's a bit odd\r\n        1. Feels a bit strange\r\n        47889. Because the Markdown orders the numbers\r\n    5. and they can be in any order\r\n11. As high as you like!\r\n",
            "metadata": {}
        },
        {
            "cell_type": "markdown",
            "source": "# Links\r\n\r\nYou can add links in your notebook with `[Link Text](link)` like `[You can find my blog here](https://sqldbawithabeard.com)`  \r\n\r\n[You can find my blog here](https://sqldbawithabeard.com)\r\n\r\n# Images\r\n\r\nYou can embed images into your notebook. You ***should*** be able to use local images but I cannot get it to work.\r\n\r\nImages are embedded with `![alt text](link to image)` like this `![image](https://user-images.githubusercontent.com/6729780/59564341-8036f180-903d-11e9-8e14-a773d62cf596.png)`\r\n\r\n![image](https://user-images.githubusercontent.com/6729780/59564341-8036f180-903d-11e9-8e14-a773d62cf596.png)\r\n\r\nYou do not need to be connected to the internet to view the image in the notebook.\r\n\r\nI created the above link by opening a new issue iin a GitHub repository\r\n\r\n![image](https://user-images.githubusercontent.com/6729780/59564390-284cba80-903e-11e9-8a8c-a481b6da6fce.png)\r\n\r\nand then pasting the screenshot into the issue and copy the resulting code and paste into the Markdown block\r\n\r\n![image](https://user-images.githubusercontent.com/6729780/59564426-6b0e9280-903e-11e9-8b54-8e82e5959f80.png)\r\n\r\n\r\n\r\n\r\n# Code\r\n\r\nTo add code to the Markdown use the backtick ` \r\n\r\n`SELECT @@VERSION`",
            "metadata": {}
        }
    ]
}